{
  "nbformat": 4,
  "nbformat_minor": 0,
  "metadata": {
    "colab": {
      "name": " assignment 2 web scraping ipynb",
      "provenance": [],
      "collapsed_sections": []
    },
    "kernelspec": {
      "name": "python3",
      "display_name": "Python 3"
    },
    "language_info": {
      "name": "python"
    }
  },
  "cells": [
    {
      "cell_type": "code",
      "execution_count": 15,
      "metadata": {
        "colab": {
          "base_uri": "https://localhost:8080/"
        },
        "id": "2UGlZTdXOGB-",
        "outputId": "fb76143a-1ba6-4ef4-d40e-3082670bc147"
      },
      "outputs": [
        {
          "output_type": "stream",
          "name": "stdout",
          "text": [
            "List all the header tags :\n",
            "\n",
            "<h1 class=\"firstHeading mw-first-heading\" id=\"firstHeading\" style=\"display: none\">Main Page</h1>\n",
            "\n",
            "<h1><span class=\"mw-headline\" id=\"Welcome_to_Wikipedia\">Welcome to <a href=\"/wiki/Wikipedia\" title=\"Wikipedia\">Wikipedia</a></span></h1>\n",
            "\n",
            "<h2 class=\"mp-h2\" id=\"mp-tfa-h2\"><span id=\"From_today.27s_featured_article\"></span><span class=\"mw-headline\" id=\"From_today's_featured_article\">From today's featured article</span></h2>\n",
            "\n",
            "<h2 class=\"mp-h2\" id=\"mp-dyk-h2\"><span class=\"mw-headline\" id=\"Did_you_know_...\">Did you know ...</span></h2>\n",
            "\n",
            "<h2 class=\"mp-h2\" id=\"mp-itn-h2\"><span class=\"mw-headline\" id=\"In_the_news\">In the news</span></h2>\n",
            "\n",
            "<h2 class=\"mp-h2\" id=\"mp-otd-h2\"><span class=\"mw-headline\" id=\"On_this_day\">On this day</span></h2>\n",
            "\n",
            "<h2 class=\"mp-h2\" id=\"mp-tfp-h2\"><span id=\"Today.27s_featured_picture\"></span><span class=\"mw-headline\" id=\"Today's_featured_picture\">Today's featured picture</span></h2>\n",
            "\n",
            "<h2 class=\"mp-h2\" id=\"mp-other\"><span class=\"mw-headline\" id=\"Other_areas_of_Wikipedia\">Other areas of Wikipedia</span></h2>\n",
            "\n",
            "<h2 class=\"mp-h2\" id=\"mp-sister\"><span id=\"Wikipedia.27s_sister_projects\"></span><span class=\"mw-headline\" id=\"Wikipedia's_sister_projects\">Wikipedia's sister projects</span></h2>\n",
            "\n",
            "<h2 class=\"mp-h2\" id=\"mp-lang\"><span class=\"mw-headline\" id=\"Wikipedia_languages\">Wikipedia languages</span></h2>\n",
            "\n",
            "<h2>Navigation menu</h2>\n",
            "\n",
            "<h3 aria-label=\"\" class=\"vector-menu-heading\" id=\"p-personal-label\">\n",
            "<span class=\"vector-menu-heading-label\">Personal tools</span>\n",
            "</h3>\n",
            "\n",
            "<h3 aria-label=\"\" class=\"vector-menu-heading\" id=\"p-namespaces-label\">\n",
            "<span class=\"vector-menu-heading-label\">Namespaces</span>\n",
            "</h3>\n",
            "\n",
            "<h3 aria-label=\"Change language variant\" class=\"vector-menu-heading\" id=\"p-variants-label\">\n",
            "<span class=\"vector-menu-heading-label\">English</span>\n",
            "<span class=\"vector-menu-checkbox-expanded\">expanded</span>\n",
            "<span class=\"vector-menu-checkbox-collapsed\">collapsed</span>\n",
            "</h3>\n",
            "\n",
            "<h3 aria-label=\"\" class=\"vector-menu-heading\" id=\"p-views-label\">\n",
            "<span class=\"vector-menu-heading-label\">Views</span>\n",
            "</h3>\n",
            "\n",
            "<h3 aria-label=\"\" class=\"vector-menu-heading\" id=\"p-cactions-label\">\n",
            "<span class=\"vector-menu-heading-label\">More</span>\n",
            "<span class=\"vector-menu-checkbox-expanded\">expanded</span>\n",
            "<span class=\"vector-menu-checkbox-collapsed\">collapsed</span>\n",
            "</h3>\n",
            "\n",
            "<h3>\n",
            "<label for=\"searchInput\">Search</label>\n",
            "</h3>\n",
            "\n",
            "<h3 aria-label=\"\" class=\"vector-menu-heading\" id=\"p-navigation-label\">\n",
            "<span class=\"vector-menu-heading-label\">Navigation</span>\n",
            "</h3>\n",
            "\n",
            "<h3 aria-label=\"\" class=\"vector-menu-heading\" id=\"p-interaction-label\">\n",
            "<span class=\"vector-menu-heading-label\">Contribute</span>\n",
            "</h3>\n",
            "\n",
            "<h3 aria-label=\"\" class=\"vector-menu-heading\" id=\"p-tb-label\">\n",
            "<span class=\"vector-menu-heading-label\">Tools</span>\n",
            "</h3>\n",
            "\n",
            "<h3 aria-label=\"\" class=\"vector-menu-heading\" id=\"p-coll-print_export-label\">\n",
            "<span class=\"vector-menu-heading-label\">Print/export</span>\n",
            "</h3>\n",
            "\n",
            "<h3 aria-label=\"\" class=\"vector-menu-heading\" id=\"p-wikibase-otherprojects-label\">\n",
            "<span class=\"vector-menu-heading-label\">In other projects</span>\n",
            "</h3>\n",
            "\n",
            "<h3 aria-label=\"\" class=\"vector-menu-heading\" id=\"p-lang-label\">\n",
            "<span class=\"vector-menu-heading-label\">Languages</span>\n",
            "</h3>\n"
          ]
        }
      ],
      "source": [
        "#problem 1 get header tags\n",
        "from urllib.request import urlopen\n",
        "from bs4 import BeautifulSoup\n",
        "\n",
        "def get_headers(url):\n",
        "  bs = BeautifulSoup(url, \"html.parser\")\n",
        "  titles = bs.find_all(['h1', 'h2','h3','h4','h5','h6'])\n",
        "  print('List all the header tags :', *titles, sep='\\n\\n')\n",
        "\n",
        "url = urlopen('https://en.wikipedia.org/wiki/Main_Page')\n",
        "get_headers(url)\n",
        "\n",
        "\n"
      ]
    },
    {
      "cell_type": "code",
      "source": [
        "# Problem 2 top 100 imdb movies\n",
        "from bs4 import BeautifulSoup\n",
        "import requests\n",
        "import re\n",
        "import pandas as pd\n",
        "\n",
        "def print_imdb_top_100_movies(url):\n",
        "    response = requests.get(url)\n",
        "    soup = BeautifulSoup(response.text, 'lxml')\n",
        "\n",
        "    movies = soup.select('td.titleColumn')\n",
        "    ratings = [b.attrs.get('data-value') for b in soup.select('td.posterColumn span[name=ir]')]\n",
        "\n",
        "    imdb = []\n",
        "\n",
        "    # Store each item into dictionary (data), then put those into a list (imdb)\n",
        "    for index in range(0, 100):\n",
        "        # Seperate movie into: 'place', 'title', 'year'\n",
        "        movie_string = movies[index].get_text()\n",
        "        movie = (' '.join(movie_string.split()).replace('.', ''))\n",
        "        movie_title = movie[len(str(index)) + 1:-7]\n",
        "        year = re.search('\\((.*?)\\)', movie_string).group(1)\n",
        "        place = movie[:len(str(index)) - (len(movie))]\n",
        "        data = {\"name\": movie_title,\n",
        "                \"release\": year,\n",
        "                \"rating\": ratings[index],\n",
        "                }\n",
        "        imdb.append(data)\n",
        "    print(pd.DataFrame(data=imdb))\n",
        "\n",
        "url = 'http://www.imdb.com/chart/top'\n",
        "print_imdb_top_100_movies(url)\n"
      ],
      "metadata": {
        "colab": {
          "base_uri": "https://localhost:8080/"
        },
        "id": "9Jxe1vfqOIDU",
        "outputId": "1d3d8d3b-ea84-4ba0-b19c-4a9aa385c358"
      },
      "execution_count": 14,
      "outputs": [
        {
          "output_type": "stream",
          "name": "stdout",
          "text": [
            "                        name release             rating\n",
            "0   The Shawshank Redemption    1994   9.23988860095175\n",
            "1              The Godfather    1972  9.160838580687843\n",
            "2            The Dark Knight    2008  8.992440215906601\n",
            "3     The Godfather: Part II    1974   8.99005662288494\n",
            "4               12 Angry Men    1957   8.95039905916876\n",
            "..                       ...     ...                ...\n",
            "95                         M    1931  8.261400509046402\n",
            "96        North by Northwest    1959  8.261106588816132\n",
            "97                 Capernaum    2018  8.261093831429108\n",
            "98                  The Hunt    2012   8.25965809712353\n",
            "99                   Vertigo    1958  8.254980989275808\n",
            "\n",
            "[100 rows x 3 columns]\n"
          ]
        }
      ]
    },
    {
      "cell_type": "code",
      "source": [
        ""
      ],
      "metadata": {
        "id": "iqBV4GG7fVft"
      },
      "execution_count": null,
      "outputs": []
    },
    {
      "cell_type": "code",
      "source": [
        "#problem 3 top 100 imdb movies\n",
        "from bs4 import BeautifulSoup\n",
        "import requests\n",
        "import re\n",
        "import pandas as pd\n",
        "\n",
        "def print_imdb_top_100_movies(url):\n",
        "    response = requests.get(url)\n",
        "    soup = BeautifulSoup(response.text, 'lxml')\n",
        "\n",
        "    movies = soup.select('td.titleColumn')\n",
        "    ratings = [b.attrs.get('data-value') for b in soup.select('td.posterColumn span[name=ir]')]\n",
        "\n",
        "    imdb = []\n",
        "\n",
        "    # Store each item into dictionary (data), then put those into a list (imdb)\n",
        "    for index in range(150, 250):\n",
        "        # Seperate movie into: 'place', 'title', 'year'\n",
        "        movie_string = movies[index].get_text()\n",
        "        movie = (' '.join(movie_string.split()).replace('.', ''))\n",
        "        movie_title = movie[len(str(index)) + 1:-7]\n",
        "        year = re.search('\\((.*?)\\)', movie_string).group(1)\n",
        "        place = movie[:len(str(index)) - (len(movie))]\n",
        "        data = {\"name\": movie_title,\n",
        "                \"release\": year,\n",
        "                \"rating\": ratings[index],\n",
        "                }\n",
        "        imdb.append(data)\n",
        "    print(pd.DataFrame(data=imdb))\n",
        "\n",
        "url = 'http://www.imdb.com/chart/top'\n",
        "print_imdb_top_100_movies(url)\n"
      ],
      "metadata": {
        "colab": {
          "base_uri": "https://localhost:8080/"
        },
        "id": "RcsUJHkcPwEi",
        "outputId": "f95ebdeb-8e26-4234-fd8f-b49a6df002a9"
      },
      "execution_count": 8,
      "outputs": [
        {
          "output_type": "stream",
          "name": "stdout",
          "text": [
            "                      name release             rating\n",
            "0         Kill Bill: Vol 1    2003  8.144621802049985\n",
            "1             Finding Nemo    2003   8.14169949387407\n",
            "2   No Country for Old Men    2007  8.141385625688224\n",
            "3              Raging Bull    1980  8.140138944051353\n",
            "4         The Elephant Man    1980  8.138635231435304\n",
            "..                     ...     ...                ...\n",
            "95                Jai Bhim    2021  8.017675231856616\n",
            "96    Beauty and the Beast    1991  8.017375789124209\n",
            "97                  Gandhi    1982  8.015624687819592\n",
            "98                The Help    2011   8.01477910069462\n",
            "99          The Handmaiden    2016  8.012711870973224\n",
            "\n",
            "[100 rows x 3 columns]\n"
          ]
        }
      ]
    },
    {
      "cell_type": "code",
      "source": [
        "#Problem 4 Meesho bags\n",
        "from urllib.request import urlopen\n",
        "from bs4 import BeautifulSoup\n",
        "url=\"https://meesho.com/bags-ladies/pl/p7vbp\"\n",
        "html = urlopen(url)\n",
        "bsObj = BeautifulSoup(html.read(),\"html.parser\")  \n",
        "product_name = bsObj.findAll(\"a\",{\"class\":\"name-link\"})\n",
        "print(product_name)"
      ],
      "metadata": {
        "colab": {
          "base_uri": "https://localhost:8080/"
        },
        "id": "fCm9Tbr7QMcR",
        "outputId": "2dad22a5-3d94-4284-a367-da590bcce598"
      },
      "execution_count": 11,
      "outputs": [
        {
          "output_type": "stream",
          "name": "stdout",
          "text": [
            "[]\n"
          ]
        }
      ]
    },
    {
      "cell_type": "code",
      "source": [
        "price=float(input(\"Enter Price : \"))\n",
        "dp=float(input(\"Enter discount % : \"))\n",
        "discount=price*dp/100\n",
        "sp=price-discount\n",
        "print(\"Cost Price : \",price)\n",
        "print(\"Discount: \",discount)\n",
        "print(\"Selling Price : \",sp)\n"
      ],
      "metadata": {
        "colab": {
          "base_uri": "https://localhost:8080/"
        },
        "id": "OC3pf2qkRSGB",
        "outputId": "0aa7cd91-93fd-4219-90ce-db0a8b791048"
      },
      "execution_count": 10,
      "outputs": [
        {
          "output_type": "stream",
          "name": "stdout",
          "text": [
            "Enter Price : 122\n",
            "Enter discount % : 12\n",
            "Cost Price :  122.0\n",
            "Discount:  14.64\n",
            "Selling Price :  107.36\n"
          ]
        }
      ]
    },
    {
      "cell_type": "code",
      "source": [
        "# problem 5 men's cricket\n",
        "import requests\n",
        "from bs4 import BeautifulSoup\n",
        "import re\n",
        "import pandas as pd\n",
        "\n",
        "headers = {\n",
        "    \"User-Agent\": \"Mozilla/5.0 (X11; Linux x86_64) AppleWebKit/537.36 (KHTML, like Gecko) Chrome/75.0.3770.100 Safari/537.36\"\n",
        "    }\n",
        "\n",
        "urls = [\n",
        "\"https://www.icc-cricket.com/rankings/mens/player-rankings/odi/batting\",\n",
        "\"https://www.icc-cricket.com/rankings/mens/player-rankings/odi/bowling\",\n",
        "]\n",
        "\n",
        "final_result_file_name = \"All Ranking List.csv\"\n",
        "final_column_names = [\"Ranking Type\", \"Position\", \"Player Name\", \"Team Name\", \"Rating\", \"Career Best Rating\", \"Crawl URL\"]\n",
        "pd.DataFrame(columns=final_column_names).to_csv(final_result_file_name, sep=\"\\t\", index=False, encoding=\"utf-8\")\n",
        "\n",
        "for url in urls:\n",
        "    request_object = requests.get(url, headers=headers)\n",
        "    html_content = request_object.text\n",
        "    print(request_object.status_code, \"->\", url)\n",
        "    soup_object = BeautifulSoup(html_content, \"lxml\")\n",
        "    for element in soup_object.select('[class=\"ranking-pos up\"], [class=\"ranking-pos down\"]'):\n",
        "        element.replace_with(BeautifulSoup(\"<\" + element.name + \"></\" + element.name + \">\", \"html.parser\"))\n",
        "\n",
        "    ranking_type = soup_object.select_one(\".rankings-block__title-container > h4\").text\n",
        "\n",
        "    result_file_name = ranking_type + \".csv\"\n",
        "    column_names = [\"Position\", \"Player Name\", \"Team Name\", \"Rating\", \"Career Best Rating\", \"Crawl URL\"]\n",
        "    pd.DataFrame(columns=column_names).to_csv(result_file_name, sep=\"\\t\", index=False, encoding=\"utf-8\")\n",
        "    count = 0\n",
        "    for element in soup_object.select('table[class=\"table rankings-table\"] tr'):\n",
        "        count = count+1\n",
        "        if count == 12:\n",
        "            break\n",
        "\n",
        "        if(element.find(\"th\")):\n",
        "            continue\n",
        "        data_dict = dict()\n",
        "        data_dict[\"Crawl URL\"] = url\n",
        "        data_dict[\"Ranking Type\"] = ranking_type\n",
        "        if(element.select_one('[class*=\"position\"]')):\n",
        "            data_dict[\"Position\"] = element.select_one('[class*=\"position\"]').text\n",
        "        for player_name in (element.select('a[href*=\"/player-rankings\"]')):\n",
        "            if(player_name.text.strip()):\n",
        "                data_dict[\"Player Name\"] = player_name.text\n",
        "        if(element.select_one('[class^=\"flag-15\"]')):\n",
        "            data_dict[\"Team Name\"] = element.select_one('[class^=\"flag-15\"]')[\"class\"][-1]\n",
        "        if(element.select_one('[class$=\"rating\"]')):\n",
        "            data_dict[\"Rating\"] = element.select_one('[class$=\"rating\"]').text\n",
        "        if(element.select_one('td.u-hide-phablet')):\n",
        "            data_dict[\"Career Best Rating\"] = element.select_one('td.u-hide-phablet').text\n",
        "        for key in data_dict.keys():\n",
        "            data_dict[key] = re.sub(r\"\\s+\", \" \", data_dict[key])\n",
        "            data_dict[key] = data_dict[key].strip()\n",
        "        print(data_dict)\n"
      ],
      "metadata": {
        "colab": {
          "base_uri": "https://localhost:8080/"
        },
        "id": "0MaUqw1oUPjF",
        "outputId": "ded287f6-8e1a-476a-ab42-1b8e389518c3"
      },
      "execution_count": 12,
      "outputs": [
        {
          "output_type": "stream",
          "name": "stdout",
          "text": [
            "200 -> https://www.icc-cricket.com/rankings/mens/player-rankings/odi/batting\n",
            "{'Crawl URL': 'https://www.icc-cricket.com/rankings/mens/player-rankings/odi/batting', 'Ranking Type': \"Men's ODI Batting Rankings\", 'Position': '1 (0)', 'Player Name': 'Babar Azam', 'Team Name': 'PAK', 'Rating': '873', 'Career Best Rating': '873 v England, 13/07/2021'}\n",
            "{'Crawl URL': 'https://www.icc-cricket.com/rankings/mens/player-rankings/odi/batting', 'Ranking Type': \"Men's ODI Batting Rankings\", 'Position': '2 (0)', 'Player Name': 'Virat Kohli', 'Team Name': 'IND', 'Rating': '811', 'Career Best Rating': '911 v England, 12/07/2018'}\n",
            "{'Crawl URL': 'https://www.icc-cricket.com/rankings/mens/player-rankings/odi/batting', 'Ranking Type': \"Men's ODI Batting Rankings\", 'Position': '3 (0)', 'Player Name': 'Rohit Sharma', 'Team Name': 'IND', 'Rating': '791', 'Career Best Rating': '885 v Sri Lanka, 06/07/2019'}\n",
            "{'Crawl URL': 'https://www.icc-cricket.com/rankings/mens/player-rankings/odi/batting', 'Ranking Type': \"Men's ODI Batting Rankings\", 'Position': '4 (0)', 'Player Name': 'Quinton de Kock', 'Team Name': 'SA', 'Rating': '783', 'Career Best Rating': '813 v Sri Lanka, 10/03/2019'}\n",
            "{'Crawl URL': 'https://www.icc-cricket.com/rankings/mens/player-rankings/odi/batting', 'Ranking Type': \"Men's ODI Batting Rankings\", 'Position': '5 (0)', 'Player Name': 'Aaron Finch', 'Team Name': 'AUS', 'Rating': '779', 'Career Best Rating': '798 v England, 25/06/2019'}\n",
            "{'Crawl URL': 'https://www.icc-cricket.com/rankings/mens/player-rankings/odi/batting', 'Ranking Type': \"Men's ODI Batting Rankings\", 'Position': '6 (0)', 'Player Name': 'Jonny Bairstow', 'Team Name': 'ENG', 'Rating': '775', 'Career Best Rating': '796 v India, 26/03/2021'}\n",
            "{'Crawl URL': 'https://www.icc-cricket.com/rankings/mens/player-rankings/odi/batting', 'Ranking Type': \"Men's ODI Batting Rankings\", 'Position': '7 (0)', 'Player Name': 'David Warner', 'Team Name': 'AUS', 'Rating': '762', 'Career Best Rating': '880 v Pakistan, 26/01/2017'}\n",
            "{'Crawl URL': 'https://www.icc-cricket.com/rankings/mens/player-rankings/odi/batting', 'Ranking Type': \"Men's ODI Batting Rankings\", 'Position': '8 (0)', 'Player Name': 'Rassie van der Dussen', 'Team Name': 'SA', 'Rating': '750', 'Career Best Rating': '750 v India, 23/01/2022'}\n",
            "{'Crawl URL': 'https://www.icc-cricket.com/rankings/mens/player-rankings/odi/batting', 'Ranking Type': \"Men's ODI Batting Rankings\", 'Position': '9 (0)', 'Player Name': 'Fakhar Zaman', 'Team Name': 'PAK', 'Rating': '741', 'Career Best Rating': '779 v England, 08/07/2021'}\n",
            "{'Crawl URL': 'https://www.icc-cricket.com/rankings/mens/player-rankings/odi/batting', 'Ranking Type': \"Men's ODI Batting Rankings\", 'Position': '10 (0)', 'Player Name': 'Joe Root', 'Team Name': 'ENG', 'Rating': '740', 'Career Best Rating': '824 v Sri Lanka, 13/10/2018'}\n",
            "200 -> https://www.icc-cricket.com/rankings/mens/player-rankings/odi/bowling\n",
            "{'Crawl URL': 'https://www.icc-cricket.com/rankings/mens/player-rankings/odi/bowling', 'Ranking Type': \"Men's ODI Bowling Rankings\", 'Position': '1 (0)', 'Player Name': 'Trent Boult', 'Team Name': 'NZ', 'Rating': '737', 'Career Best Rating': '770 v West Indies, 22/06/2019'}\n",
            "{'Crawl URL': 'https://www.icc-cricket.com/rankings/mens/player-rankings/odi/bowling', 'Ranking Type': \"Men's ODI Bowling Rankings\", 'Position': '2 (0)', 'Player Name': 'Josh Hazlewood', 'Team Name': 'AUS', 'Rating': '709', 'Career Best Rating': '733 v England, 26/01/2018'}\n",
            "{'Crawl URL': 'https://www.icc-cricket.com/rankings/mens/player-rankings/odi/bowling', 'Ranking Type': \"Men's ODI Bowling Rankings\", 'Position': '3 (0)', 'Player Name': 'Chris Woakes', 'Team Name': 'ENG', 'Rating': '700', 'Career Best Rating': '711 v Sri Lanka, 04/07/2021'}\n",
            "{'Crawl URL': 'https://www.icc-cricket.com/rankings/mens/player-rankings/odi/bowling', 'Ranking Type': \"Men's ODI Bowling Rankings\", 'Position': '4', 'Player Name': 'Matt Henry', 'Team Name': 'NZ', 'Rating': '691', 'Career Best Rating': '691 v Bangladesh, 26/03/2021'}\n",
            "{'Crawl URL': 'https://www.icc-cricket.com/rankings/mens/player-rankings/odi/bowling', 'Ranking Type': \"Men's ODI Bowling Rankings\", 'Position': '5', 'Player Name': 'Mujeeb Ur Rahman', 'Team Name': 'AFG', 'Rating': '681', 'Career Best Rating': '712 v Ireland, 24/01/2021'}\n",
            "{'Crawl URL': 'https://www.icc-cricket.com/rankings/mens/player-rankings/odi/bowling', 'Ranking Type': \"Men's ODI Bowling Rankings\", 'Position': '6', 'Player Name': 'Jasprit Bumrah', 'Team Name': 'IND', 'Rating': '679', 'Career Best Rating': '841 v West Indies, 01/11/2018'}\n",
            "{'Crawl URL': 'https://www.icc-cricket.com/rankings/mens/player-rankings/odi/bowling', 'Ranking Type': \"Men's ODI Bowling Rankings\", 'Position': '7', 'Player Name': 'Mehedi Hasan', 'Team Name': 'BAN', 'Rating': '675', 'Career Best Rating': '725 v Sri Lanka, 25/05/2021'}\n",
            "{'Crawl URL': 'https://www.icc-cricket.com/rankings/mens/player-rankings/odi/bowling', 'Ranking Type': \"Men's ODI Bowling Rankings\", 'Position': '8 (0)', 'Player Name': 'Mitchell Starc', 'Team Name': 'AUS', 'Rating': '652', 'Career Best Rating': '783 v New Zealand, 29/03/2015'}\n",
            "{'Crawl URL': 'https://www.icc-cricket.com/rankings/mens/player-rankings/odi/bowling', 'Ranking Type': \"Men's ODI Bowling Rankings\", 'Position': '9', 'Player Name': 'Rashid Khan', 'Team Name': 'AFG', 'Rating': '650', 'Career Best Rating': '806 v Pakistan, 21/09/2018'}\n",
            "{'Crawl URL': 'https://www.icc-cricket.com/rankings/mens/player-rankings/odi/bowling', 'Ranking Type': \"Men's ODI Bowling Rankings\", 'Position': '10', 'Player Name': 'Andy McBrine', 'Team Name': 'IRE', 'Rating': '646', 'Career Best Rating': '646 v West Indies, 16/01/2022'}\n"
          ]
        }
      ]
    },
    {
      "cell_type": "code",
      "source": [
        "#problem 6 women cricket\n",
        "import requests\n",
        "from bs4 import BeautifulSoup\n",
        "import re\n",
        "import pandas as pd\n",
        "\n",
        "headers = {\n",
        "    \"User-Agent\": \"Mozilla/5.0 (X11; Linux x86_64) AppleWebKit/537.36 (KHTML, like Gecko) Chrome/75.0.3770.100 Safari/537.36\"\n",
        "    }\n",
        "\n",
        "urls = [\n",
        "\"https://www.icc-cricket.com/rankings/womens/player-rankings/odi/batting\",\n",
        "\"https://www.icc-cricket.com/rankings/womens/player-rankings/odi/all-rounder\",\n",
        "]\n",
        "\n",
        "final_result_file_name = \"All Ranking List.csv\"\n",
        "final_column_names = [\"Ranking Type\", \"Position\", \"Player Name\", \"Team Name\", \"Rating\", \"Career Best Rating\", \"Crawl URL\"]\n",
        "pd.DataFrame(columns=final_column_names).to_csv(final_result_file_name, sep=\"\\t\", index=False, encoding=\"utf-8\")\n",
        "\n",
        "for url in urls:\n",
        "    request_object = requests.get(url, headers=headers)\n",
        "    html_content = request_object.text\n",
        "    print(request_object.status_code, \"->\", url)\n",
        "    soup_object = BeautifulSoup(html_content, \"lxml\")\n",
        "    for element in soup_object.select('[class=\"ranking-pos up\"], [class=\"ranking-pos down\"]'):\n",
        "        element.replace_with(BeautifulSoup(\"<\" + element.name + \"></\" + element.name + \">\", \"html.parser\"))\n",
        "\n",
        "    ranking_type = soup_object.select_one(\".rankings-block__title-container > h4\").text\n",
        "\n",
        "    result_file_name = ranking_type + \".csv\"\n",
        "    column_names = [\"Position\", \"Player Name\", \"Team Name\", \"Rating\", \"Career Best Rating\", \"Crawl URL\"]\n",
        "    pd.DataFrame(columns=column_names).to_csv(result_file_name, sep=\"\\t\", index=False, encoding=\"utf-8\")\n",
        "    count = 0\n",
        "    for element in soup_object.select('table[class=\"table rankings-table\"] tr'):\n",
        "        count = count+1\n",
        "        if count == 12:\n",
        "            break\n",
        "\n",
        "        if(element.find(\"th\")):\n",
        "            continue\n",
        "        data_dict = dict()\n",
        "        data_dict[\"Crawl URL\"] = url\n",
        "        data_dict[\"Ranking Type\"] = ranking_type\n",
        "        if(element.select_one('[class*=\"position\"]')):\n",
        "            data_dict[\"Position\"] = element.select_one('[class*=\"position\"]').text\n",
        "        for player_name in (element.select('a[href*=\"/player-rankings\"]')):\n",
        "            if(player_name.text.strip()):\n",
        "                data_dict[\"Player Name\"] = player_name.text\n",
        "        if(element.select_one('[class^=\"flag-15\"]')):\n",
        "            data_dict[\"Team Name\"] = element.select_one('[class^=\"flag-15\"]')[\"class\"][-1]\n",
        "        if(element.select_one('[class$=\"rating\"]')):\n",
        "            data_dict[\"Rating\"] = element.select_one('[class$=\"rating\"]').text\n",
        "        if(element.select_one('td.u-hide-phablet')):\n",
        "            data_dict[\"Career Best Rating\"] = element.select_one('td.u-hide-phablet').text\n",
        "        for key in data_dict.keys():\n",
        "            data_dict[key] = re.sub(r\"\\s+\", \" \", data_dict[key])\n",
        "            data_dict[key] = data_dict[key].strip()\n",
        "        print(data_dict)\n"
      ],
      "metadata": {
        "colab": {
          "base_uri": "https://localhost:8080/"
        },
        "id": "BetjdyzjoUZV",
        "outputId": "45b6a05f-6cf1-48b2-dd55-83cf36d22985"
      },
      "execution_count": 13,
      "outputs": [
        {
          "output_type": "stream",
          "name": "stdout",
          "text": [
            "200 -> https://www.icc-cricket.com/rankings/womens/player-rankings/odi/batting\n",
            "{'Crawl URL': 'https://www.icc-cricket.com/rankings/womens/player-rankings/odi/batting', 'Ranking Type': \"Women's ODI Batting Rankings\", 'Position': '1 (0)', 'Player Name': 'Alyssa Healy', 'Team Name': 'AUS', 'Rating': '749', 'Career Best Rating': '776 v India, 21/09/2021'}\n",
            "{'Crawl URL': 'https://www.icc-cricket.com/rankings/womens/player-rankings/odi/batting', 'Ranking Type': \"Women's ODI Batting Rankings\", 'Position': '2 (0)', 'Player Name': 'Mithali Raj', 'Team Name': 'IND', 'Rating': '735', 'Career Best Rating': '839 v Australia, 24/12/2004'}\n",
            "{'Crawl URL': 'https://www.icc-cricket.com/rankings/womens/player-rankings/odi/batting', 'Ranking Type': \"Women's ODI Batting Rankings\", 'Position': '3', 'Player Name': 'Tammy Beaumont', 'Team Name': 'ENG', 'Rating': '707', 'Career Best Rating': '791 v India, 27/06/2021'}\n",
            "{'Crawl URL': 'https://www.icc-cricket.com/rankings/womens/player-rankings/odi/batting', 'Ranking Type': \"Women's ODI Batting Rankings\", 'Position': '4', 'Player Name': 'Meg Lanning', 'Team Name': 'AUS', 'Rating': '706', 'Career Best Rating': '834 v New Zealand, 24/02/2016'}\n",
            "{'Crawl URL': 'https://www.icc-cricket.com/rankings/womens/player-rankings/odi/batting', 'Ranking Type': \"Women's ODI Batting Rankings\", 'Position': '5', 'Player Name': 'Beth Mooney', 'Team Name': 'AUS', 'Rating': '705', 'Career Best Rating': '734 v England, 03/02/2022'}\n",
            "{'Crawl URL': 'https://www.icc-cricket.com/rankings/womens/player-rankings/odi/batting', 'Ranking Type': \"Women's ODI Batting Rankings\", 'Position': '6', 'Player Name': 'Lizelle Lee', 'Team Name': 'SA', 'Rating': '702', 'Career Best Rating': '774 v West Indies, 07/09/2021'}\n",
            "{'Crawl URL': 'https://www.icc-cricket.com/rankings/womens/player-rankings/odi/batting', 'Ranking Type': \"Women's ODI Batting Rankings\", 'Position': '7', 'Player Name': 'Amy Satterthwaite', 'Team Name': 'NZ', 'Rating': '700', 'Career Best Rating': '756 v Australia, 02/03/2017'}\n",
            "{'Crawl URL': 'https://www.icc-cricket.com/rankings/womens/player-rankings/odi/batting', 'Ranking Type': \"Women's ODI Batting Rankings\", 'Position': '8', 'Player Name': 'Smriti Mandhana', 'Team Name': 'IND', 'Rating': '666', 'Career Best Rating': '797 v England, 28/02/2019'}\n",
            "{'Crawl URL': 'https://www.icc-cricket.com/rankings/womens/player-rankings/odi/batting', 'Ranking Type': \"Women's ODI Batting Rankings\", 'Position': '9', 'Player Name': 'Laura Wolvaardt', 'Team Name': 'SA', 'Rating': '661', 'Career Best Rating': '725 v India, 07/03/2021'}\n",
            "{'Crawl URL': 'https://www.icc-cricket.com/rankings/womens/player-rankings/odi/batting', 'Ranking Type': \"Women's ODI Batting Rankings\", 'Position': '10', 'Player Name': 'Ellyse Perry', 'Team Name': 'AUS', 'Rating': '661', 'Career Best Rating': '766 v West Indies, 11/09/2019'}\n",
            "200 -> https://www.icc-cricket.com/rankings/womens/player-rankings/odi/all-rounder\n",
            "{'Crawl URL': 'https://www.icc-cricket.com/rankings/womens/player-rankings/odi/all-rounder', 'Ranking Type': \"Women's ODI All-Rounder Rankings\", 'Position': '1 (0)', 'Player Name': 'Ellyse Perry', 'Team Name': 'AUS', 'Rating': '438', 'Career Best Rating': '548 v West Indies, 11/09/2019'}\n",
            "{'Crawl URL': 'https://www.icc-cricket.com/rankings/womens/player-rankings/odi/all-rounder', 'Ranking Type': \"Women's ODI All-Rounder Rankings\", 'Position': '2 (0)', 'Player Name': 'Natalie Sciver', 'Team Name': 'ENG', 'Rating': '351', 'Career Best Rating': '391 v New Zealand, 16/09/2021'}\n",
            "{'Crawl URL': 'https://www.icc-cricket.com/rankings/womens/player-rankings/odi/all-rounder', 'Ranking Type': \"Women's ODI All-Rounder Rankings\", 'Position': '3 (0)', 'Player Name': 'Marizanne Kapp', 'Team Name': 'SA', 'Rating': '327', 'Career Best Rating': '419 v West Indies, 10/09/2021'}\n",
            "{'Crawl URL': 'https://www.icc-cricket.com/rankings/womens/player-rankings/odi/all-rounder', 'Ranking Type': \"Women's ODI All-Rounder Rankings\", 'Position': '4', 'Player Name': 'Amelia Kerr', 'Team Name': 'NZ', 'Rating': '312', 'Career Best Rating': '312 v India, 24/02/2022'}\n",
            "{'Crawl URL': 'https://www.icc-cricket.com/rankings/womens/player-rankings/odi/all-rounder', 'Ranking Type': \"Women's ODI All-Rounder Rankings\", 'Position': '5', 'Player Name': 'Deepti Sharma', 'Team Name': 'IND', 'Rating': '309', 'Career Best Rating': '397 v South Africa, 09/10/2019'}\n",
            "{'Crawl URL': 'https://www.icc-cricket.com/rankings/womens/player-rankings/odi/all-rounder', 'Ranking Type': \"Women's ODI All-Rounder Rankings\", 'Position': '6 (0)', 'Player Name': 'Katherine Brunt', 'Team Name': 'ENG', 'Rating': '273', 'Career Best Rating': '296 v Australia, 03/02/2022'}\n",
            "{'Crawl URL': 'https://www.icc-cricket.com/rankings/womens/player-rankings/odi/all-rounder', 'Ranking Type': \"Women's ODI All-Rounder Rankings\", 'Position': '7 (0)', 'Player Name': 'Jess Jonassen', 'Team Name': 'AUS', 'Rating': '263', 'Career Best Rating': '308 v West Indies, 11/09/2019'}\n",
            "{'Crawl URL': 'https://www.icc-cricket.com/rankings/womens/player-rankings/odi/all-rounder', 'Ranking Type': \"Women's ODI All-Rounder Rankings\", 'Position': '8 (0)', 'Player Name': 'Stafanie Taylor', 'Team Name': 'WI', 'Rating': '262', 'Career Best Rating': '559 v New Zealand, 10/10/2013'}\n",
            "{'Crawl URL': 'https://www.icc-cricket.com/rankings/womens/player-rankings/odi/all-rounder', 'Ranking Type': \"Women's ODI All-Rounder Rankings\", 'Position': '9 (0)', 'Player Name': 'Ashleigh Gardner', 'Team Name': 'AUS', 'Rating': '256', 'Career Best Rating': '275 v India, 26/09/2021'}\n",
            "{'Crawl URL': 'https://www.icc-cricket.com/rankings/womens/player-rankings/odi/all-rounder', 'Ranking Type': \"Women's ODI All-Rounder Rankings\", 'Position': '10 (0)', 'Player Name': 'Hayley Matthews', 'Team Name': 'WI', 'Rating': '254', 'Career Best Rating': '286 v South Africa, 28/01/2022'}\n"
          ]
        }
      ]
    }
  ]
}