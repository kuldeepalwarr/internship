{
  "nbformat": 4,
  "nbformat_minor": 0,
  "metadata": {
    "colab": {
      "name": "Assignemnt.ipynb",
      "provenance": [],
      "collapsed_sections": []
    },
    "kernelspec": {
      "name": "python3",
      "display_name": "Python 3"
    },
    "language_info": {
      "name": "python"
    }
  },
  "cells": [
    {
      "cell_type": "markdown",
      "source": [
        "## Write a python program to find the factorial of a number."
      ],
      "metadata": {
        "id": "mc-1Q_FXTTAz"
      }
    },
    {
      "cell_type": "code",
      "execution_count": null,
      "metadata": {
        "colab": {
          "base_uri": "https://localhost:8080/"
        },
        "id": "pRD5YLBtSQYX",
        "outputId": "fc542488-7d42-45a2-de47-136a68b66081"
      },
      "outputs": [
        {
          "output_type": "stream",
          "name": "stdout",
          "text": [
            "The factorial of 7 is 5040\n"
          ]
        }
      ],
      "source": [
        "\n",
        "num = 7\n",
        "\n",
        "\n",
        "factorial = 1\n",
        "\n",
        "if num < 0:\n",
        "   print(\"sorry numbr is smaller than 0\")\n",
        "elif num == 0:\n",
        "  print(\"The factorial of 0 is 1\")\n",
        "else:\n",
        "   for i in range(1,num + 1):\n",
        "      factorial = factorial*i\n",
        "   print(\"The factorial of\",num,\"is\",factorial)"
      ]
    },
    {
      "cell_type": "code",
      "source": [
        "\n",
        "n= int(input(\"Enter any number:\"))\n",
        "if(n ==0 or n == 1):\n",
        "    printf(n,\"Number is neither prime nor composite\")\n",
        "elif n>1 :\n",
        "    for i in range(2,n):\n",
        "        if(n%i == 0):\n",
        "            print(n,\"is not prime but composite number\")\n",
        "            break\n",
        "    else:\n",
        "        print(n,\"number is prime but not composite number\")\n",
        "else :\n",
        "    print(\"Please enter positive number only \")\n"
      ],
      "metadata": {
        "id": "p9hxLgJrTCsW",
        "colab": {
          "base_uri": "https://localhost:8080/"
        },
        "outputId": "b88eca52-42d0-4e9c-f789-f375ef3ff040"
      },
      "execution_count": 1,
      "outputs": [
        {
          "output_type": "stream",
          "name": "stdout",
          "text": [
            "Enter any number:90\n",
            "90 is not prime but composite number\n"
          ]
        }
      ]
    },
    {
      "cell_type": "code",
      "source": [
        "my_string=input(\"Enter string:\")\n",
        "if(my_string==my_string[::-1]):\n",
        "   print(\"The string is a palindrome\")\n",
        "else:\n",
        "   print(\"The string isn't a palindrome\")"
      ],
      "metadata": {
        "colab": {
          "base_uri": "https://localhost:8080/"
        },
        "id": "jlWTBgqY1wzW",
        "outputId": "5df649cf-65c9-406f-c21f-a519a1a799a0"
      },
      "execution_count": 2,
      "outputs": [
        {
          "output_type": "stream",
          "name": "stdout",
          "text": [
            "Enter string:kuldeep\n",
            "The string isn't a palindrome\n"
          ]
        }
      ]
    },
    {
      "cell_type": "code",
      "source": [
        "height = int(input(\"Enter the height of the triangle :\"))\n",
        "for i in range(1,height+1):\n",
        "  for j in range(1,i+1):\n",
        "    print(str(i)+\" \", end='')\n",
        "  print()"
      ],
      "metadata": {
        "colab": {
          "base_uri": "https://localhost:8080/"
        },
        "id": "5I7LqNvx2VLH",
        "outputId": "c80dc7a0-6474-47df-954d-2f21dd870333"
      },
      "execution_count": 3,
      "outputs": [
        {
          "output_type": "stream",
          "name": "stdout",
          "text": [
            "Enter the height of the triangle :4\n",
            "1 \n",
            "2 2 \n",
            "3 3 3 \n",
            "4 4 4 4 \n"
          ]
        }
      ]
    },
    {
      "cell_type": "code",
      "source": [
        "string = input().lower()\n",
        "input_string = \"Data Science\"\n",
        "frequencies = {} \n",
        "  \n",
        "for char in string: \n",
        "   if char in frequencies: \n",
        "      frequencies[char] += 1\n",
        "   else: \n",
        "      frequencies[char] = 1\n",
        "\n",
        "# Show Output\n",
        "print (\"Per char frequency in '{}' is :\\n {}\".format(input_string, str(frequencies)))"
      ],
      "metadata": {
        "colab": {
          "base_uri": "https://localhost:8080/"
        },
        "id": "JHQFWu8o2ye6",
        "outputId": "669fa785-2fa0-4165-e7f3-66e2bf9e398f"
      },
      "execution_count": 2,
      "outputs": [
        {
          "output_type": "stream",
          "name": "stdout",
          "text": [
            "Data Science\n",
            "Per char frequency in 'Data Science' is :\n",
            " {'d': 1, 'a': 2, 't': 1, ' ': 1, 's': 1, 'c': 2, 'i': 1, 'e': 2, 'n': 1}\n"
          ]
        }
      ]
    },
    {
      "cell_type": "code",
      "source": [
        ""
      ],
      "metadata": {
        "id": "REJVRC363bV7"
      },
      "execution_count": null,
      "outputs": []
    }
  ]
}